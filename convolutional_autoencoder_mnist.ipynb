{
 "cells": [
  {
   "cell_type": "code",
   "execution_count": 1,
   "metadata": {},
   "outputs": [
    {
     "name": "stdout",
     "output_type": "stream",
     "text": [
      "Successfully downloaded train-images-idx3-ubyte.gz 9912422 bytes.\n",
      "Extracting MNIST_data/train-images-idx3-ubyte.gz\n",
      "Successfully downloaded train-labels-idx1-ubyte.gz 28881 bytes.\n",
      "Extracting MNIST_data/train-labels-idx1-ubyte.gz\n",
      "Successfully downloaded t10k-images-idx3-ubyte.gz 1648877 bytes.\n",
      "Extracting MNIST_data/t10k-images-idx3-ubyte.gz\n",
      "Successfully downloaded t10k-labels-idx1-ubyte.gz 4542 bytes.\n",
      "Extracting MNIST_data/t10k-labels-idx1-ubyte.gz\n"
     ]
    }
   ],
   "source": [
    "import tensorflow as tf\n",
    "import numpy as np\n",
    "import matplotlib.pyplot as plt\n",
    "\n",
    "# import mnist dataset\n",
    "from tensorflow.examples.tutorials.mnist import input_data\n",
    "mnist = input_data.read_data_sets(\"MNIST_data/\", one_hot=True)"
   ]
  },
  {
   "cell_type": "code",
   "execution_count": 2,
   "metadata": {
    "collapsed": true
   },
   "outputs": [],
   "source": [
    "# Parameters\n",
    "learning_rate = 0.001\n",
    "training_epochs = 500\n",
    "display_step = 1\n",
    "examples_to_show = 10\n",
    "bs = 256\n",
    "\n",
    "# tf input graph\n",
    "X = tf.placeholder(tf.float32, [None, 784])\n",
    "batch_size = tf.shape(X)[0]"
   ]
  },
  {
   "cell_type": "code",
   "execution_count": 3,
   "metadata": {
    "collapsed": true
   },
   "outputs": [],
   "source": [
    "# Store weights and biases\n",
    "\n",
    "weights = {\n",
    "    # convolution 1, 3x3 filter\n",
    "    'wec1': tf.Variable(tf.random_normal([3, 3, 1, 32])),\n",
    "    # convolution 2, 3x3 filter\n",
    "    'wec2': tf.Variable(tf.random_normal([3, 3, 32, 64])),\n",
    "    # fully connected layer 1, encoder\n",
    "    'wef1': tf.Variable(tf.random_normal([7*7*64, 1024])),\n",
    "    # fully connected layer 2, encoder\n",
    "    'wef2': tf.Variable(tf.random_normal([1024, 256])),\n",
    "    # fully connected layer 1, decoder\n",
    "    'wdf1': tf.Variable(tf.random_normal([256, 1024])),\n",
    "    # fully connected layer 2, decoder\n",
    "    'wdf2': tf.Variable(tf.random_normal([1024, 7*7*64])),\n",
    "    # deconvolution 1, 3x3 filter\n",
    "    'wdd1': tf.Variable(tf.random_normal([3, 3, 32, 64])),\n",
    "    # deconvolution 2, 3x3 filter\n",
    "    'wdd2': tf.Variable(tf.random_normal([3, 3, 1, 32]))\n",
    "}\n",
    "\n",
    "biases = {\n",
    "    'bec1': tf.Variable(tf.random_normal([32])),\n",
    "    'bec2': tf.Variable(tf.random_normal([64])),\n",
    "    'bef1': tf.Variable(tf.random_normal([1024])),\n",
    "    'bef2': tf.Variable(tf.random_normal([256])),\n",
    "    'bdf1': tf.Variable(tf.random_normal([1024])),\n",
    "    'bdf2': tf.Variable(tf.random_normal([7*7*64])),\n",
    "    'bdd1': tf.Variable(tf.random_normal([32])),\n",
    "    'bdd2': tf.Variable(tf.random_normal([1]))\n",
    "}"
   ]
  },
  {
   "cell_type": "code",
   "execution_count": 23,
   "metadata": {},
   "outputs": [],
   "source": [
    "def activation(_input, activation='sigmoid'):\n",
    "    if activation == 'relu':\n",
    "        return tf.nn.relu(_input)\n",
    "    elif activation == 'sigmoid':\n",
    "        return tf.nn.sigmoid(_input)"
   ]
  },
  {
   "cell_type": "code",
   "execution_count": 24,
   "metadata": {},
   "outputs": [
    {
     "name": "stdout",
     "output_type": "stream",
     "text": [
      "(?, 28, 28, 1)\n",
      "(?, 14, 14, 32)\n",
      "(?, 7, 7, 64)\n",
      "(?, 1024)\n",
      "(?, 256)\n",
      "(?, 1024)\n",
      "(?, 7, 7, 64)\n",
      "(?, 14, 14, 32)\n",
      "(?, 28, 28, 1)\n"
     ]
    }
   ],
   "source": [
    "# create model\n",
    "\n",
    "reshaped_x = tf.reshape(X, (-1, 28, 28, 1))\n",
    "print(reshaped_x.shape)\n",
    "\n",
    "conv1 = tf.nn.conv2d(reshaped_x, weights['wec1'], strides=[1, 2, 2, 1], padding='SAME')\n",
    "conv1 = tf.contrib.layers.batch_norm(conv1, epsilon=1e-5) # batch norm added\n",
    "conv1 = activation(tf.add(conv1, biases['bec1']))\n",
    "print(conv1.shape)\n",
    "\n",
    "conv2 = tf.nn.conv2d(conv1, weights['wec2'], strides=[1, 2, 2, 1], padding='SAME')\n",
    "conv2 = tf.contrib.layers.batch_norm(conv2, epsilon=1e-5) # batch norm added\n",
    "conv2 = activation(tf.add(conv2, biases['bec2']))\n",
    "print(conv2.shape)\n",
    "\n",
    "fce1 = tf.reshape(conv2, (-1, 7*7*64))\n",
    "fce1 = activation(tf.add(tf.matmul(fce1, weights['wef1']), biases['bef1']))\n",
    "print(fce1.shape)\n",
    "\n",
    "encode = activation(tf.add(tf.matmul(fce1, weights['wef2']), biases['bef2']))\n",
    "print(encode.shape)\n",
    "\n",
    "fcd1 = activation(tf.add(tf.matmul(encode, weights['wdf1']), biases['bdf1']))\n",
    "print(fcd1.shape)\n",
    "\n",
    "fcd2 = activation(tf.add(tf.matmul(fcd1, weights['wdf2']), biases['bdf2']))\n",
    "fcd2 = tf.reshape(fcd2, (-1, 7, 7, 64))\n",
    "print(fcd2.shape)\n",
    "\n",
    "deconv1 = tf.nn.conv2d_transpose(fcd2, \n",
    "                                 weights['wdd1'], \n",
    "                                 output_shape=tf.stack([batch_size, 14, 14, 32]), \n",
    "                                 strides=[1, 2, 2, 1],\n",
    "                                 padding='SAME')\n",
    "deconv1 = tf.reshape(deconv1, (batch_size, 14, 14, 32))\n",
    "deconv1 = tf.contrib.layers.batch_norm(deconv1, epsilon=1e-5) # batch norm added\n",
    "deconv1 = activation(tf.add(deconv1, biases['bdd1']))\n",
    "print(deconv1.shape)\n",
    "\n",
    "deconv2 = tf.nn.conv2d_transpose(deconv1,\n",
    "                                 weights['wdd2'],\n",
    "                                 output_shape=tf.stack([batch_size, 28, 28, 1]),\n",
    "                                 strides=[1, 2, 2, 1],\n",
    "                                 padding='SAME')\n",
    "deconv2 = tf.reshape(deconv2, (batch_size, 28, 28, 1))\n",
    "deconv2 = tf.contrib.layers.batch_norm(deconv2, epsilon=1e-5) # batch norm added\n",
    "deconv2 = activation(tf.add(deconv2, biases['bdd2']))\n",
    "print(deconv2.shape)\n",
    "\n",
    "decode = tf.reshape(deconv2, (-1, 784))\n",
    "\n",
    "cost = tf.reduce_mean(tf.square(decode - X))\n",
    "optimizer = tf.train.AdamOptimizer(learning_rate).minimize(cost)\n",
    "\n",
    "init = tf.global_variables_initializer()\n",
    "\n",
    "saver = tf.train.Saver()"
   ]
  },
  {
   "cell_type": "code",
   "execution_count": 25,
   "metadata": {},
   "outputs": [
    {
     "name": "stdout",
     "output_type": "stream",
     "text": [
      "i:0, Cost:0.111866220832\n",
      "i:1, Cost:0.106457836926\n",
      "i:2, Cost:0.107444837689\n",
      "i:3, Cost:0.105311892927\n",
      "i:4, Cost:0.107507221401\n",
      "i:5, Cost:0.100136347115\n",
      "i:6, Cost:0.10128647089\n",
      "i:7, Cost:0.102158486843\n",
      "i:8, Cost:0.101551413536\n",
      "i:9, Cost:0.0972151011229\n",
      "i:10, Cost:0.0979288816452\n",
      "i:11, Cost:0.0979917123914\n",
      "i:12, Cost:0.0982137024403\n",
      "i:13, Cost:0.0983902066946\n",
      "i:14, Cost:0.0966763421893\n",
      "i:15, Cost:0.0976730436087\n",
      "i:16, Cost:0.0956696271896\n",
      "i:17, Cost:0.0961155891418\n",
      "i:18, Cost:0.0950447320938\n",
      "i:19, Cost:0.0988218262792\n",
      "i:20, Cost:0.0936489477754\n",
      "i:21, Cost:0.0965562537313\n",
      "i:22, Cost:0.0947278663516\n",
      "i:23, Cost:0.0973327383399\n",
      "i:24, Cost:0.0939196199179\n",
      "i:25, Cost:0.0907167643309\n",
      "i:26, Cost:0.0903971344233\n",
      "i:27, Cost:0.0948089510202\n",
      "i:28, Cost:0.0944688171148\n",
      "i:29, Cost:0.0939424112439\n",
      "i:30, Cost:0.0927604734898\n",
      "i:31, Cost:0.0934249982238\n",
      "i:32, Cost:0.0923789069057\n",
      "i:33, Cost:0.0948507040739\n",
      "i:34, Cost:0.0923756882548\n",
      "i:35, Cost:0.0932828783989\n",
      "i:36, Cost:0.0908588841558\n",
      "i:37, Cost:0.0905467644334\n",
      "i:38, Cost:0.0900995135307\n",
      "i:39, Cost:0.0910354033113\n",
      "i:40, Cost:0.09191223979\n",
      "i:41, Cost:0.0912484228611\n",
      "i:42, Cost:0.095298320055\n",
      "i:43, Cost:0.0923036634922\n",
      "i:44, Cost:0.0904071778059\n",
      "i:45, Cost:0.0900240838528\n",
      "i:46, Cost:0.0885084718466\n",
      "i:47, Cost:0.0902611389756\n",
      "i:48, Cost:0.0881735235453\n",
      "i:49, Cost:0.0906125307083\n",
      "i:50, Cost:0.0890199616551\n",
      "i:51, Cost:0.0905891209841\n",
      "i:52, Cost:0.0911866724491\n",
      "i:53, Cost:0.0888319015503\n",
      "i:54, Cost:0.0905562192202\n",
      "i:55, Cost:0.0898972526193\n",
      "i:56, Cost:0.0875825211406\n",
      "i:57, Cost:0.0892185270786\n",
      "i:58, Cost:0.0864734053612\n"
     ]
    },
    {
     "ename": "KeyboardInterrupt",
     "evalue": "",
     "output_type": "error",
     "traceback": [
      "\u001b[0;31m---------------------------------------------------------------------------\u001b[0m",
      "\u001b[0;31mKeyboardInterrupt\u001b[0m                         Traceback (most recent call last)",
      "\u001b[0;32m<ipython-input-25-010cfeeb489a>\u001b[0m in \u001b[0;36m<module>\u001b[0;34m()\u001b[0m\n\u001b[1;32m      6\u001b[0m         \u001b[0;32mfor\u001b[0m \u001b[0mi\u001b[0m \u001b[0;32min\u001b[0m \u001b[0mrange\u001b[0m\u001b[0;34m(\u001b[0m\u001b[0mtotal_batch\u001b[0m\u001b[0;34m)\u001b[0m\u001b[0;34m:\u001b[0m\u001b[0;34m\u001b[0m\u001b[0m\n\u001b[1;32m      7\u001b[0m             \u001b[0mbatch_x\u001b[0m\u001b[0;34m,\u001b[0m \u001b[0mbatch_y\u001b[0m \u001b[0;34m=\u001b[0m \u001b[0mmnist\u001b[0m\u001b[0;34m.\u001b[0m\u001b[0mtrain\u001b[0m\u001b[0;34m.\u001b[0m\u001b[0mnext_batch\u001b[0m\u001b[0;34m(\u001b[0m\u001b[0mbs\u001b[0m\u001b[0;34m)\u001b[0m\u001b[0;34m\u001b[0m\u001b[0m\n\u001b[0;32m----> 8\u001b[0;31m             \u001b[0m_\u001b[0m\u001b[0;34m,\u001b[0m \u001b[0mc\u001b[0m \u001b[0;34m=\u001b[0m \u001b[0msess\u001b[0m\u001b[0;34m.\u001b[0m\u001b[0mrun\u001b[0m\u001b[0;34m(\u001b[0m\u001b[0;34m[\u001b[0m\u001b[0moptimizer\u001b[0m\u001b[0;34m,\u001b[0m \u001b[0mcost\u001b[0m\u001b[0;34m]\u001b[0m\u001b[0;34m,\u001b[0m \u001b[0mfeed_dict\u001b[0m\u001b[0;34m=\u001b[0m\u001b[0;34m{\u001b[0m\u001b[0mX\u001b[0m\u001b[0;34m:\u001b[0m \u001b[0mbatch_x\u001b[0m\u001b[0;34m}\u001b[0m\u001b[0;34m)\u001b[0m\u001b[0;34m\u001b[0m\u001b[0m\n\u001b[0m\u001b[1;32m      9\u001b[0m             \u001b[0;32mprint\u001b[0m\u001b[0;34m(\u001b[0m\u001b[0;34m\"i:{0}, Cost:{1}\"\u001b[0m\u001b[0;34m.\u001b[0m\u001b[0mformat\u001b[0m\u001b[0;34m(\u001b[0m\u001b[0mi\u001b[0m\u001b[0;34m,\u001b[0m \u001b[0mc\u001b[0m\u001b[0;34m)\u001b[0m\u001b[0;34m)\u001b[0m\u001b[0;34m\u001b[0m\u001b[0m\n\u001b[1;32m     10\u001b[0m         \u001b[0;32mif\u001b[0m \u001b[0mepoch\u001b[0m \u001b[0;34m%\u001b[0m \u001b[0mdisplay_step\u001b[0m \u001b[0;34m==\u001b[0m \u001b[0;36m0\u001b[0m\u001b[0;34m:\u001b[0m\u001b[0;34m\u001b[0m\u001b[0m\n",
      "\u001b[0;32m/home/subhankar/.local/lib/python2.7/site-packages/tensorflow/python/client/session.pyc\u001b[0m in \u001b[0;36mrun\u001b[0;34m(self, fetches, feed_dict, options, run_metadata)\u001b[0m\n\u001b[1;32m    787\u001b[0m     \u001b[0;32mtry\u001b[0m\u001b[0;34m:\u001b[0m\u001b[0;34m\u001b[0m\u001b[0m\n\u001b[1;32m    788\u001b[0m       result = self._run(None, fetches, feed_dict, options_ptr,\n\u001b[0;32m--> 789\u001b[0;31m                          run_metadata_ptr)\n\u001b[0m\u001b[1;32m    790\u001b[0m       \u001b[0;32mif\u001b[0m \u001b[0mrun_metadata\u001b[0m\u001b[0;34m:\u001b[0m\u001b[0;34m\u001b[0m\u001b[0m\n\u001b[1;32m    791\u001b[0m         \u001b[0mproto_data\u001b[0m \u001b[0;34m=\u001b[0m \u001b[0mtf_session\u001b[0m\u001b[0;34m.\u001b[0m\u001b[0mTF_GetBuffer\u001b[0m\u001b[0;34m(\u001b[0m\u001b[0mrun_metadata_ptr\u001b[0m\u001b[0;34m)\u001b[0m\u001b[0;34m\u001b[0m\u001b[0m\n",
      "\u001b[0;32m/home/subhankar/.local/lib/python2.7/site-packages/tensorflow/python/client/session.pyc\u001b[0m in \u001b[0;36m_run\u001b[0;34m(self, handle, fetches, feed_dict, options, run_metadata)\u001b[0m\n\u001b[1;32m    995\u001b[0m     \u001b[0;32mif\u001b[0m \u001b[0mfinal_fetches\u001b[0m \u001b[0;32mor\u001b[0m \u001b[0mfinal_targets\u001b[0m\u001b[0;34m:\u001b[0m\u001b[0;34m\u001b[0m\u001b[0m\n\u001b[1;32m    996\u001b[0m       results = self._do_run(handle, final_targets, final_fetches,\n\u001b[0;32m--> 997\u001b[0;31m                              feed_dict_string, options, run_metadata)\n\u001b[0m\u001b[1;32m    998\u001b[0m     \u001b[0;32melse\u001b[0m\u001b[0;34m:\u001b[0m\u001b[0;34m\u001b[0m\u001b[0m\n\u001b[1;32m    999\u001b[0m       \u001b[0mresults\u001b[0m \u001b[0;34m=\u001b[0m \u001b[0;34m[\u001b[0m\u001b[0;34m]\u001b[0m\u001b[0;34m\u001b[0m\u001b[0m\n",
      "\u001b[0;32m/home/subhankar/.local/lib/python2.7/site-packages/tensorflow/python/client/session.pyc\u001b[0m in \u001b[0;36m_do_run\u001b[0;34m(self, handle, target_list, fetch_list, feed_dict, options, run_metadata)\u001b[0m\n\u001b[1;32m   1130\u001b[0m     \u001b[0;32mif\u001b[0m \u001b[0mhandle\u001b[0m \u001b[0;32mis\u001b[0m \u001b[0mNone\u001b[0m\u001b[0;34m:\u001b[0m\u001b[0;34m\u001b[0m\u001b[0m\n\u001b[1;32m   1131\u001b[0m       return self._do_call(_run_fn, self._session, feed_dict, fetch_list,\n\u001b[0;32m-> 1132\u001b[0;31m                            target_list, options, run_metadata)\n\u001b[0m\u001b[1;32m   1133\u001b[0m     \u001b[0;32melse\u001b[0m\u001b[0;34m:\u001b[0m\u001b[0;34m\u001b[0m\u001b[0m\n\u001b[1;32m   1134\u001b[0m       return self._do_call(_prun_fn, self._session, handle, feed_dict,\n",
      "\u001b[0;32m/home/subhankar/.local/lib/python2.7/site-packages/tensorflow/python/client/session.pyc\u001b[0m in \u001b[0;36m_do_call\u001b[0;34m(self, fn, *args)\u001b[0m\n\u001b[1;32m   1137\u001b[0m   \u001b[0;32mdef\u001b[0m \u001b[0m_do_call\u001b[0m\u001b[0;34m(\u001b[0m\u001b[0mself\u001b[0m\u001b[0;34m,\u001b[0m \u001b[0mfn\u001b[0m\u001b[0;34m,\u001b[0m \u001b[0;34m*\u001b[0m\u001b[0margs\u001b[0m\u001b[0;34m)\u001b[0m\u001b[0;34m:\u001b[0m\u001b[0;34m\u001b[0m\u001b[0m\n\u001b[1;32m   1138\u001b[0m     \u001b[0;32mtry\u001b[0m\u001b[0;34m:\u001b[0m\u001b[0;34m\u001b[0m\u001b[0m\n\u001b[0;32m-> 1139\u001b[0;31m       \u001b[0;32mreturn\u001b[0m \u001b[0mfn\u001b[0m\u001b[0;34m(\u001b[0m\u001b[0;34m*\u001b[0m\u001b[0margs\u001b[0m\u001b[0;34m)\u001b[0m\u001b[0;34m\u001b[0m\u001b[0m\n\u001b[0m\u001b[1;32m   1140\u001b[0m     \u001b[0;32mexcept\u001b[0m \u001b[0merrors\u001b[0m\u001b[0;34m.\u001b[0m\u001b[0mOpError\u001b[0m \u001b[0;32mas\u001b[0m \u001b[0me\u001b[0m\u001b[0;34m:\u001b[0m\u001b[0;34m\u001b[0m\u001b[0m\n\u001b[1;32m   1141\u001b[0m       \u001b[0mmessage\u001b[0m \u001b[0;34m=\u001b[0m \u001b[0mcompat\u001b[0m\u001b[0;34m.\u001b[0m\u001b[0mas_text\u001b[0m\u001b[0;34m(\u001b[0m\u001b[0me\u001b[0m\u001b[0;34m.\u001b[0m\u001b[0mmessage\u001b[0m\u001b[0;34m)\u001b[0m\u001b[0;34m\u001b[0m\u001b[0m\n",
      "\u001b[0;32m/home/subhankar/.local/lib/python2.7/site-packages/tensorflow/python/client/session.pyc\u001b[0m in \u001b[0;36m_run_fn\u001b[0;34m(session, feed_dict, fetch_list, target_list, options, run_metadata)\u001b[0m\n\u001b[1;32m   1119\u001b[0m         return tf_session.TF_Run(session, options,\n\u001b[1;32m   1120\u001b[0m                                  \u001b[0mfeed_dict\u001b[0m\u001b[0;34m,\u001b[0m \u001b[0mfetch_list\u001b[0m\u001b[0;34m,\u001b[0m \u001b[0mtarget_list\u001b[0m\u001b[0;34m,\u001b[0m\u001b[0;34m\u001b[0m\u001b[0m\n\u001b[0;32m-> 1121\u001b[0;31m                                  status, run_metadata)\n\u001b[0m\u001b[1;32m   1122\u001b[0m \u001b[0;34m\u001b[0m\u001b[0m\n\u001b[1;32m   1123\u001b[0m     \u001b[0;32mdef\u001b[0m \u001b[0m_prun_fn\u001b[0m\u001b[0;34m(\u001b[0m\u001b[0msession\u001b[0m\u001b[0;34m,\u001b[0m \u001b[0mhandle\u001b[0m\u001b[0;34m,\u001b[0m \u001b[0mfeed_dict\u001b[0m\u001b[0;34m,\u001b[0m \u001b[0mfetch_list\u001b[0m\u001b[0;34m)\u001b[0m\u001b[0;34m:\u001b[0m\u001b[0;34m\u001b[0m\u001b[0m\n",
      "\u001b[0;31mKeyboardInterrupt\u001b[0m: "
     ]
    }
   ],
   "source": [
    "with tf.Session() as sess:\n",
    "    sess.run(init)\n",
    "    total_batch = int(mnist.train.num_examples/bs)\n",
    "    \n",
    "    for epoch in range(training_epochs):\n",
    "        for i in range(total_batch):\n",
    "            batch_x, batch_y = mnist.train.next_batch(bs)\n",
    "            _, c = sess.run([optimizer, cost], feed_dict={X: batch_x})\n",
    "            print(\"i:{0}, Cost:{1}\".format(i, c))\n",
    "        if epoch % display_step == 0:\n",
    "            print('Epoch:', (epoch+1), 'Cost:', c)\n",
    "    print('Optimzation finished!')\n",
    "    \n",
    "    save_path = saver.save(sess, \"Saved_models/cnn_auto_mnist_sigmoid/conv_ae_model.ckpt\")\n",
    "    print(\"Model saved in file: %s\" % save_path)\n"
   ]
  },
  {
   "cell_type": "code",
   "execution_count": 15,
   "metadata": {},
   "outputs": [
    {
     "name": "stdout",
     "output_type": "stream",
     "text": [
      "INFO:tensorflow:Restoring parameters from Saved_models/cnn_auto_mnist_sigmoid/conv_ae_model.ckpt\n",
      "Model restored.\n"
     ]
    }
   ],
   "source": [
    "with tf.Session() as sess:\n",
    "    # Restore variables from disk.\n",
    "    saver.restore(sess, \"Saved_models/cnn_auto_mnist_sigmoid/conv_ae_model.ckpt\")\n",
    "    print(\"Model restored.\")\n",
    "    \n",
    "    encode_decode = sess.run(decode, feed_dict={X: mnist.test.images[:examples_to_show]}) # first 10 rows from the test dataset\n",
    "\n",
    "# compare the original images with the reconstructions\n",
    "f, a = plt.subplots(2, 10, figsize=(10,2))\n",
    "for i in range(examples_to_show):\n",
    "    a[0][i].imshow(np.reshape(mnist.test.images[i], (28,28)))\n",
    "    a[1][i].imshow(np.reshape(encode_decode[i], (28,28)))\n",
    "plt.draw()"
   ]
  },
  {
   "cell_type": "code",
   "execution_count": 16,
   "metadata": {},
   "outputs": [
    {
     "data": {
      "image/png": "[encoded data removed]",
      "text/plain": [
       "<matplotlib.figure.Figure at 0x7efebcd2ef50>"
      ]
     },
     "metadata": {},
     "output_type": "display_data"
    }
   ],
   "source": [
    "plt.show()"
   ]
  },
  {
   "cell_type": "code",
   "execution_count": null,
   "metadata": {
    "collapsed": true
   },
   "outputs": [],
   "source": [
    "img_org = plt.imshow(np.reshape(x, (28,28)))\n",
    "plt.show()"
   ]
  },
  {
   "cell_type": "code",
   "execution_count": null,
   "metadata": {
    "collapsed": true
   },
   "outputs": [],
   "source": [
    "img_pred = plt.imshow(np.reshape(out, (28,28)))\n",
    "plt.show()"
   ]
  }
 ],
 "metadata": {
  "kernelspec": {
   "display_name": "Python 2",
   "language": "python",
   "name": "python2"
  },
  "language_info": {
   "codemirror_mode": {
    "name": "ipython",
    "version": 2
   },
   "file_extension": ".py",
   "mimetype": "text/x-python",
   "name": "python",
   "nbconvert_exporter": "python",
   "pygments_lexer": "ipython2",
   "version": "2.7.12"
  }
 },
 "nbformat": 4,
 "nbformat_minor": 2
}
