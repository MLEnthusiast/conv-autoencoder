{
 "cells": [
  {
   "cell_type": "code",
   "execution_count": 1,
   "metadata": {},
   "outputs": [
    {
     "name": "stdout",
     "output_type": "stream",
     "text": [
      "Extracting MNIST_data/train-images-idx3-ubyte.gz\n",
      "Extracting MNIST_data/train-labels-idx1-ubyte.gz\n",
      "Extracting MNIST_data/t10k-images-idx3-ubyte.gz\n",
      "Extracting MNIST_data/t10k-labels-idx1-ubyte.gz\n"
     ]
    }
   ],
   "source": [
    "import tensorflow as tf\n",
    "import numpy as np\n",
    "import matplotlib.pyplot as plt\n",
    "\n",
    "# import mnist dataset\n",
    "from tensorflow.examples.tutorials.mnist import input_data\n",
    "mnist = input_data.read_data_sets(\"MNIST_data/\", one_hot=True)"
   ]
  },
  {
   "cell_type": "code",
   "execution_count": 2,
   "metadata": {
    "collapsed": true
   },
   "outputs": [],
   "source": [
    "# Parameters\n",
    "learning_rate = 0.001\n",
    "examples_to_show = 10\n",
    "\n",
    "# Small epsilon value for the BN transform\n",
    "epsilon = 1e-3"
   ]
  },
  {
   "cell_type": "code",
   "execution_count": 3,
   "metadata": {
    "collapsed": true
   },
   "outputs": [],
   "source": [
    "# Store weights and biases\n",
    "\n",
    "w1_initial = np.random.normal(size=(3, 3, 1, 32)).astype(np.float32)\n",
    "w2_initial = np.random.normal(size=(3, 3, 32, 64)).astype(np.float32)\n",
    "w3_initial = np.random.normal(size=(7*7*64, 1024)).astype(np.float32)\n",
    "w4_initial = np.random.normal(size=(1024, 256)).astype(np.float32)\n",
    "w5_initial = np.random.normal(size=(256, 1024)).astype(np.float32)\n",
    "w6_initial = np.random.normal(size=(1024, 7*7*64)).astype(np.float32)\n",
    "w7_initial = np.random.normal(size=(3, 3, 32, 64)).astype(np.float32)\n",
    "w8_initial = np.random.normal(size=(3, 3, 1, 32)).astype(np.float32)\n",
    "\n",
    "b1_initial = np.random.normal(size=(32)).astype(np.float32)\n",
    "b2_initial = np.random.normal(size=(64)).astype(np.float32)\n",
    "b3_initial = np.random.normal(size=(1024)).astype(np.float32)\n",
    "b4_initial = np.random.normal(size=(256)).astype(np.float32)\n",
    "b5_initial = np.random.normal(size=(1024)).astype(np.float32)\n",
    "b6_initial = np.random.normal(size=(7*7*64)).astype(np.float32)\n",
    "b7_initial = np.random.normal(size=(32)).astype(np.float32)\n",
    "b8_initial = np.random.normal(size=(1)).astype(np.float32)"
   ]
  },
  {
   "cell_type": "code",
   "execution_count": 4,
   "metadata": {
    "collapsed": true
   },
   "outputs": [],
   "source": [
    "def activation(_input, activation='relu'):\n",
    "    if activation == 'relu':\n",
    "        return tf.nn.relu(_input)\n",
    "    elif activation == 'sigmoid':\n",
    "        return tf.nn.sigmoid(_input)"
   ]
  },
  {
   "cell_type": "code",
   "execution_count": 5,
   "metadata": {
    "collapsed": true
   },
   "outputs": [],
   "source": [
    "def batch_norm_wrapper(inputs, is_training, decay=0.999):\n",
    "    channels = inputs.get_shape().as_list()[-1]\n",
    "    offset = tf.get_variable('bn_offset', \n",
    "                             [channels], dtype=tf.float32,\n",
    "                             initializer=tf.zeros_initializer())\n",
    "    scale = tf.get_variable('bn_scale', \n",
    "                            [channels], \n",
    "                            dtype=tf.float32, \n",
    "                            initializer=tf.random_normal_initializer(1.0, 0.02))\n",
    "    pop_mean = tf.Variable(tf.zeros([channels]), trainable=False)\n",
    "    pop_var = tf.Variable(tf.ones([channels]), trainable=False)\n",
    "    \n",
    "    if is_training:\n",
    "        batch_mean, batch_var = tf.nn.moments(inputs,[0,1,2], keep_dims=False)\n",
    "        train_mean = tf.assign(pop_mean,\n",
    "                               pop_mean * decay + batch_mean * (1 - decay))\n",
    "        train_var = tf.assign(pop_var,\n",
    "                              pop_var * decay + batch_var * (1 - decay))\n",
    "        with tf.control_dependencies([train_mean, train_var]):\n",
    "            return tf.nn.batch_normalization(inputs, batch_mean, batch_var, offset, scale, epsilon)\n",
    "    else:\n",
    "        return tf.nn.batch_normalization(inputs, pop_mean, pop_var, offset, scale, epsilon)"
   ]
  },
  {
   "cell_type": "code",
   "execution_count": 6,
   "metadata": {},
   "outputs": [],
   "source": [
    "# create model\n",
    "\n",
    "def build_graph(is_training):\n",
    "    \n",
    "    # tf input graph\n",
    "    X = tf.placeholder(tf.float32, [None, 784])\n",
    "    batch_size = tf.shape(X)[0]\n",
    "    \n",
    "    reshaped_x = tf.reshape(X, (-1, 28, 28, 1))\n",
    "    print(reshaped_x.shape)\n",
    "\n",
    "    # Convolutional layer 1\n",
    "    with tf.variable_scope('conv_1'):\n",
    "        wec1 = tf.Variable(w1_initial)\n",
    "        bec1 = tf.Variable(b1_initial)\n",
    "        conv1 = tf.add(tf.nn.conv2d(reshaped_x, wec1, strides=[1, 2, 2, 1], padding='SAME'), bec1)\n",
    "        bn1 = batch_norm_wrapper(conv1, is_training=is_training)\n",
    "        conv1 = activation(bn1)\n",
    "        #print(conv1.shape)\n",
    "\n",
    "    with tf.variable_scope('conv_2'):\n",
    "        wec2 = tf.Variable(w2_initial)\n",
    "        bec2 = tf.Variable(b2_initial)\n",
    "        conv2 = tf.add(tf.nn.conv2d(conv1, wec2, strides=[1, 2, 2, 1], padding='SAME'), bec2)\n",
    "        bn2 = batch_norm_wrapper(conv2, is_training=is_training)\n",
    "        conv2 = activation(bn2)\n",
    "        #print(conv2.shape)\n",
    "\n",
    "    with tf.variable_scope('fc_1'):\n",
    "        wef1 = tf.Variable(w3_initial)\n",
    "        bef1 = tf.Variable(b3_initial)\n",
    "        fce1 = tf.reshape(conv2, (-1, 7*7*64))\n",
    "        fce1 = activation(tf.add(tf.matmul(fce1, wef1), bef1))\n",
    "        #print(fce1.shape)\n",
    "\n",
    "    with tf.variable_scope('fc_2'):\n",
    "        wef2 = tf.Variable(w4_initial)\n",
    "        bef2 = tf.Variable(b4_initial)\n",
    "        encode = activation(tf.add(tf.matmul(fce1, wef2), bef2))\n",
    "        #print(encode.shape)\n",
    "        \n",
    "    with tf.variable_scope('fc_3'):\n",
    "        wdf1 = tf.Variable(w5_initial)\n",
    "        bdf1 = tf.Variable(b5_initial)\n",
    "        fcd1 = activation(tf.add(tf.matmul(encode, wdf1), bdf1))\n",
    "        #print(fcd1.shape)\n",
    "\n",
    "    with tf.variable_scope('fc_4'):\n",
    "        wdf2 = tf.Variable(w6_initial)\n",
    "        bdf2 = tf.Variable(b6_initial)\n",
    "        fcd2 = activation(tf.add(tf.matmul(fcd1, wdf2), bdf2))\n",
    "        fcd2 = tf.reshape(fcd2, (-1, 7, 7, 64))\n",
    "        #print(fcd2.shape)\n",
    "\n",
    "    with tf.variable_scope('deconv_1'):\n",
    "        wdd1 = tf.Variable(w7_initial)\n",
    "        bdd1 = tf.Variable(b7_initial)\n",
    "        deconv1 = tf.nn.conv2d_transpose(fcd2, \n",
    "                                         wdd1, \n",
    "                                         output_shape=tf.stack([batch_size, 14, 14, 32]), \n",
    "                                         strides=[1, 2, 2, 1],\n",
    "                                         padding='SAME')\n",
    "        deconv1 = tf.add(deconv1, bdd1)\n",
    "        deconv1 = tf.reshape(deconv1, (batch_size, 14, 14, 32))\n",
    "        bn3 = batch_norm_wrapper(deconv1, is_training=is_training)\n",
    "        deconv1 = activation(bn3)\n",
    "        #print(deconv1.shape)\n",
    "\n",
    "    with tf.variable_scope('deconv_2'):\n",
    "        wdd2 = tf.Variable(w8_initial)\n",
    "        bdd2 = tf.Variable(b8_initial)\n",
    "        deconv2 = tf.nn.conv2d_transpose(deconv1,\n",
    "                                         wdd2,\n",
    "                                         output_shape=tf.stack([batch_size, 28, 28, 1]),\n",
    "                                         strides=[1, 2, 2, 1],\n",
    "                                         padding='SAME')\n",
    "        deconv2 = tf.add(deconv2, bdd2)\n",
    "        deconv2 = tf.reshape(deconv2, (batch_size, 28, 28, 1))\n",
    "        bn4 = batch_norm_wrapper(deconv2, is_training=is_training)\n",
    "        deconv2 = activation(bn4)\n",
    "        #print(deconv2.shape)\n",
    "\n",
    "    decode = tf.reshape(deconv2, (-1, 784))\n",
    "\n",
    "    cost = tf.reduce_mean(tf.square(decode - X))\n",
    "    optimizer = tf.train.AdamOptimizer(learning_rate).minimize(cost)\n",
    "\n",
    "\n",
    "    return X, encode, decode, cost, optimizer, tf.train.Saver()"
   ]
  },
  {
   "cell_type": "code",
   "execution_count": 7,
   "metadata": {
    "collapsed": true
   },
   "outputs": [
    {
     "name": "stdout",
     "output_type": "stream",
     "text": [
      "(?, 28, 28, 1)\n",
      "(?, 14, 14, 32)\n",
      "(?, 7, 7, 64)\n",
      "(?, 1024)\n",
      "(?, 256)\n",
      "(?, 1024)\n",
      "(?, 7, 7, 64)\n",
      "(?, 14, 14, 32)\n",
      "(?, 28, 28, 1)\n",
      "Iter:0, Minibatch-cost:0.460896015167\n",
      "Iter:100, Minibatch-cost:0.0708047151566\n",
      "Iter:200, Minibatch-cost:0.0600918531418\n",
      "Iter:300, Minibatch-cost:0.0511237643659\n",
      "Iter:400, Minibatch-cost:0.0431177765131\n",
      "Iter:500, Minibatch-cost:0.03758790344\n",
      "Iter:600, Minibatch-cost:0.0296867117286\n",
      "Iter:700, Minibatch-cost:0.0251566655934\n",
      "Iter:800, Minibatch-cost:0.0250085238367\n",
      "Iter:900, Minibatch-cost:0.0210404712707\n",
      "Iter:1000, Minibatch-cost:0.0194837357849\n",
      "Iter:1100, Minibatch-cost:0.0163002479821\n",
      "Iter:1200, Minibatch-cost:0.0148286977783\n",
      "Iter:1300, Minibatch-cost:0.014999166131\n",
      "Iter:1400, Minibatch-cost:0.0148470457643\n",
      "Iter:1500, Minibatch-cost:0.0128916036338\n",
      "Iter:1600, Minibatch-cost:0.0139916399494\n",
      "Iter:1700, Minibatch-cost:0.0111674442887\n",
      "Iter:1800, Minibatch-cost:0.0120390700176\n",
      "Iter:1900, Minibatch-cost:0.0116423396394\n",
      "Iter:2000, Minibatch-cost:0.0107246823609\n",
      "Iter:2100, Minibatch-cost:0.0106507809833\n",
      "Iter:2200, Minibatch-cost:0.0103559140116\n",
      "Iter:2300, Minibatch-cost:0.00927521195263\n",
      "Iter:2400, Minibatch-cost:0.01018205937\n",
      "Iter:2500, Minibatch-cost:0.0103256637231\n",
      "Iter:2600, Minibatch-cost:0.00923337973654\n",
      "Iter:2700, Minibatch-cost:0.00875254627317\n",
      "Iter:2800, Minibatch-cost:0.00874373316765\n",
      "Iter:2900, Minibatch-cost:0.0090249394998\n",
      "Iter:3000, Minibatch-cost:0.00904695317149\n",
      "Iter:3100, Minibatch-cost:0.00932120904326\n",
      "Iter:3200, Minibatch-cost:0.00865000393242\n",
      "Iter:3300, Minibatch-cost:0.00837577041239\n",
      "Iter:3400, Minibatch-cost:0.0082769850269\n",
      "Iter:3500, Minibatch-cost:0.00779626984149\n",
      "Iter:3600, Minibatch-cost:0.00751223554835\n",
      "Iter:3700, Minibatch-cost:0.0075622969307\n",
      "Iter:3800, Minibatch-cost:0.00765591440722\n",
      "Iter:3900, Minibatch-cost:0.00799025315791\n",
      "Iter:4000, Minibatch-cost:0.00731394765899\n",
      "Iter:4100, Minibatch-cost:0.00685548968613\n",
      "Iter:4200, Minibatch-cost:0.00688303168863\n",
      "Iter:4300, Minibatch-cost:0.00715461792424\n",
      "Iter:4400, Minibatch-cost:0.00663132034242\n",
      "Iter:4500, Minibatch-cost:0.00684204511344\n",
      "Iter:4600, Minibatch-cost:0.00665157148615\n",
      "Iter:4700, Minibatch-cost:0.00634515704587\n",
      "Iter:4800, Minibatch-cost:0.00654452573508\n",
      "Iter:4900, Minibatch-cost:0.00675962679088\n",
      "Optimization Done!\n"
     ]
    }
   ],
   "source": [
    "#Build training graph, train and save the trained model\n",
    "tf.reset_default_graph()\n",
    "X, _, _, cost, optimizer, saver = build_graph(is_training=True)\n",
    "\n",
    "with tf.Session() as sess:\n",
    "    sess.run(tf.global_variables_initializer())\n",
    "    for i in range(5000):\n",
    "        batch = mnist.train.next_batch(60)\n",
    "        optimizer.run(feed_dict={X: batch[0]})\n",
    "        if i % 100 is 0:\n",
    "            c = sess.run([cost],feed_dict={X: batch[0]})\n",
    "            print('Iter:{0}, Minibatch-cost:{1}'.format(i, c[0]))\n",
    "    saved_model = saver.save(sess, './save_cae/temp-bn-save')\n",
    "\n",
    "print(\"Optimization Done!\")"
   ]
  },
  {
   "cell_type": "code",
   "execution_count": 12,
   "metadata": {},
   "outputs": [
    {
     "name": "stdout",
     "output_type": "stream",
     "text": [
      "(?, 28, 28, 1)\n",
      "(?, 14, 14, 32)\n",
      "(?, 7, 7, 64)\n",
      "(?, 1024)\n",
      "(?, 256)\n",
      "(?, 1024)\n",
      "(?, 7, 7, 64)\n",
      "(?, 14, 14, 32)\n",
      "(?, 28, 28, 1)\n",
      "INFO:tensorflow:Restoring parameters from ./save_cae/temp-bn-save\n"
     ]
    },
    {
     "data": {
      "image/png": "[encoded data removed]",
      "text/plain": [
       "<matplotlib.figure.Figure at 0x7f8077058ed0>"
      ]
     },
     "metadata": {},
     "output_type": "display_data"
    }
   ],
   "source": [
    "tf.reset_default_graph()\n",
    "X, _, decode, _, _, saver = build_graph(is_training=False)\n",
    "\n",
    "with tf.Session() as sess:\n",
    "    sess.run(tf.global_variables_initializer())\n",
    "    saver.restore(sess, './save_cae/temp-bn-save')\n",
    "    \n",
    "    recons_out = sess.run(decode, feed_dict={X: mnist.test.images[:examples_to_show]})\n",
    "    \n",
    "# compare the original images with the reconstructions\n",
    "f, a = plt.subplots(2, 10, figsize=(10,2))\n",
    "for i in range(examples_to_show):\n",
    "    a[0][i].imshow(np.reshape(mnist.test.images[i], (28,28)), cmap='gray', interpolation='spline16')\n",
    "    a[1][i].imshow(np.reshape(recons_out[i], (28,28)), cmap='gray', interpolation='spline16')\n",
    "plt.draw()\n",
    "plt.show()"
   ]
  },
  {
   "cell_type": "code",
   "execution_count": null,
   "metadata": {
    "collapsed": true
   },
   "outputs": [],
   "source": []
  }
 ],
 "metadata": {
  "kernelspec": {
   "display_name": "Python 2",
   "language": "python",
   "name": "python2"
  },
  "language_info": {
   "codemirror_mode": {
    "name": "ipython",
    "version": 2
   },
   "file_extension": ".py",
   "mimetype": "text/x-python",
   "name": "python",
   "nbconvert_exporter": "python",
   "pygments_lexer": "ipython2",
   "version": "2.7.12"
  }
 },
 "nbformat": 4,
 "nbformat_minor": 2
}
